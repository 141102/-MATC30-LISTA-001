{
  "nbformat": 4,
  "nbformat_minor": 0,
  "metadata": {
    "colab": {
      "provenance": [],
      "authorship_tag": "ABX9TyO59pOYoKGZXeSecruwIcC+",
      "include_colab_link": true
    },
    "kernelspec": {
      "name": "python3",
      "display_name": "Python 3"
    },
    "language_info": {
      "name": "python"
    }
  },
  "cells": [
    {
      "cell_type": "markdown",
      "metadata": {
        "id": "view-in-github",
        "colab_type": "text"
      },
      "source": [
        "<a href=\"https://colab.research.google.com/github/141102/-MATC30-LISTA-001/blob/main/lista_de_exercicios.ipynb\" target=\"_parent\"><img src=\"https://colab.research.google.com/assets/colab-badge.svg\" alt=\"Open In Colab\"/></a>"
      ]
    },
    {
      "cell_type": "markdown",
      "source": [
        "**EXERCÍCIO 01**"
      ],
      "metadata": {
        "id": "EtyMcFQjgQTa"
      }
    },
    {
      "cell_type": "markdown",
      "source": [
        "*mapeamento dos túneis e possibibilidade de fulga do sapo alef*"
      ],
      "metadata": {
        "id": "LAqylooOgdXG"
      }
    },
    {
      "cell_type": "code",
      "source": [
        "def resolver_labirinto(n, m, k, maze, tunnels):\n",
        "    from collections import defaultdict\n",
        "\n",
        "    # Mapeia os túneis\n",
        "    tunel = {}\n",
        "    for i1, j1, i2, j2 in tunnels:\n",
        "        tunel[(i1, j1)] = (i2, j2)\n",
        "        tunel[(i2, j2)] = (i1, j1)\n",
        "\n",
        "    # Achar posição inicial de Alef\n",
        "    for i in range(n):\n",
        "        for j in range(m):\n",
        "            if maze[i][j] == 'A':\n",
        "                start = (i, j)\n",
        "\n",
        "    def dfs(x, y, visitados):\n",
        "        if (x, y) in visitados:\n",
        "            return 0.0\n",
        "        visitados.add((x, y))\n",
        "\n",
        "        celula = maze[x][y]\n",
        "        if celula == '*':\n",
        "            return 0.0\n",
        "        if celula == '%':\n",
        "            return 1.0\n",
        "        if (x, y) in tunel:\n",
        "            x, y = tunel[(x, y)]\n",
        "\n",
        "        direcoes = [(0,1),(1,0),(-1,0),(0,-1)]\n",
        "        possibilidades = []\n",
        "        for dx, dy in direcoes:\n",
        "            nx, ny = x + dx, y + dy\n",
        "            if 0 <= nx < n and 0 <= ny < m and maze[nx][ny] != '#':\n",
        "                possibilidades.append((nx, ny))\n",
        "\n",
        "        if not possibilidades:\n",
        "            return 0.0\n",
        "\n",
        "        prob = 0.0\n",
        "        for nx, ny in possibilidades:\n",
        "            prob += dfs(nx, ny, set(visitados))\n",
        "\n",
        "        return prob / len(possibilidades)\n",
        "\n",
        "    return dfs(start[0], start[1], set())"
      ],
      "metadata": {
        "id": "bDCTDyKdj1St"
      },
      "execution_count": 39,
      "outputs": []
    },
    {
      "cell_type": "code",
      "source": [
        "# Lendo os valores de n, m e k\n",
        "n, m, k = map(int, input().split())\n",
        "\n",
        "# Lendo o labirinto\n",
        "maze = []\n",
        "for _ in range(n):\n",
        "    maze.append(list(input().strip()))\n",
        "\n",
        "# Imprimindo o labirinto formatado\n",
        "print(\"\\nLabirinto inicial:\")\n",
        "for linha in maze:\n",
        "    print(\"\".join(linha))\n",
        "\n",
        "# Lendo os túneis\n",
        "tunnels = []\n",
        "for _ in range(k):\n",
        "    i1, j1, i2, j2 = map(int, input().split())\n",
        "    tunnels.append((i1, j1, i2, j2))\n",
        "\n",
        "# Chamando a função e imprimindo o resultado\n",
        "probabilidade = resolver_labirinto(n, m, k, maze, tunnels)\n",
        "print(f\"\\nProbabilidade de Alef escapar: {probabilidade:.2f}\")"
      ],
      "metadata": {
        "colab": {
          "base_uri": "https://localhost:8080/"
        },
        "id": "aG1doVOtkEAL",
        "outputId": "1ff6ce98-9550-402b-c9cf-5d7544675a54"
      },
      "execution_count": 40,
      "outputs": [
        {
          "output_type": "stream",
          "name": "stdout",
          "text": [
            "3 6 1\n",
            "###*OO\n",
            "O#OA%O\n",
            "###*OO\n",
            "\n",
            "Labirinto inicial:\n",
            "###*OO\n",
            "O#OA%O\n",
            "###*OO\n",
            "2 3 2 1\n",
            "\n",
            "Probabilidade de Alef escapar: 0.25\n"
          ]
        }
      ]
    },
    {
      "cell_type": "markdown",
      "source": [
        "*utilizando códigos inicias*"
      ],
      "metadata": {
        "id": "sdQZscYhlXvZ"
      }
    },
    {
      "cell_type": "code",
      "source": [
        "import random\n",
        "\n",
        "def resolver_labirinto(n, m, k, maze, tunnels):\n",
        "    from collections import defaultdict\n",
        "\n",
        "    # Mapeia os túneis\n",
        "    tunel = {}\n",
        "    for i1, j1, i2, j2 in tunnels:\n",
        "        tunel[(i1, j1)] = (i2, j2)\n",
        "        tunel[(i2, j2)] = (i1, j1)\n",
        "\n",
        "    # Achar posição inicial de Alef\n",
        "    for i in range(n):\n",
        "        for j in range(m):\n",
        "            if maze[i][j] == 'A':\n",
        "                start = (i, j)\n",
        "\n",
        "    def dfs(x, y, visitados):\n",
        "        if (x, y) in visitados:\n",
        "            return 0.0\n",
        "        visitados.add((x, y))\n",
        "\n",
        "        celula = maze[x][y]\n",
        "        if celula == '*':\n",
        "            return 0.0\n",
        "        if celula == '%':\n",
        "            return 1.0\n",
        "        if (x, y) in tunel:\n",
        "            x, y = tunel[(x, y)]\n",
        "\n",
        "        direcoes = [(0,1),(1,0),(-1,0),(0,-1)]\n",
        "        possibilidades = []\n",
        "        for dx, dy in direcoes:\n",
        "            nx, ny = x + dx, y + dy\n",
        "            if 0 <= nx < n and 0 <= ny < m and maze[nx][ny] != '#':\n",
        "                possibilidades.append((nx, ny))\n",
        "\n",
        "        if not possibilidades:\n",
        "            return 0.0\n",
        "\n",
        "        prob = 0.0\n",
        "        for nx, ny in possibilidades:\n",
        "            prob += dfs(nx, ny, set(visitados))\n",
        "\n",
        "        return prob / len(possibilidades)\n",
        "\n",
        "    return dfs(start[0], start[1], set())\n",
        "\n",
        "def gerar_labirinto(n, m):\n",
        "    elementos = ['O'] * 5 + ['#', '*', '%']\n",
        "    labirinto = [''.join(random.choice(elementos) for _ in range(m)) for _ in range(n)]\n",
        "\n",
        "    # Escolher uma posição válida para 'A'\n",
        "    while True:\n",
        "        i, j = random.randint(0, n-1), random.randint(0, m-1)\n",
        "        if labirinto[i][j] == 'O':  # Garante que Alef não fique preso\n",
        "            linha = list(labirinto[i])\n",
        "            linha[j] = 'A'\n",
        "            labirinto[i] = ''.join(linha)\n",
        "            break\n",
        "\n",
        "    return labirinto\n",
        "\n",
        "def gerar_tuneis(k, n, m, maze):\n",
        "    tuneis = set()\n",
        "    pontos_validos = [(i, j) for i in range(n) for j in range(m) if maze[i][j] in ('O', '%')]\n",
        "\n",
        "    while len(tuneis) < k and len(pontos_validos) > 1:\n",
        "        p1, p2 = random.sample(pontos_validos, 2)\n",
        "        tuneis.add((p1[0], p1[1], p2[0], p2[1]))\n",
        "\n",
        "    return list(tuneis)\n",
        "\n",
        "def main():\n",
        "    n, m, k = 5, 6, 2\n",
        "    maze = gerar_labirinto(n, m)\n",
        "    tunnels = gerar_tuneis(k, n, m, maze)\n",
        "\n",
        "    # Imprimir o labirinto gerado\n",
        "    print(\"\\nLabirinto inicial:\")\n",
        "    for linha in maze:\n",
        "        print(\"\".join(linha))\n",
        "\n",
        "    # Imprimir os túneis criados\n",
        "    print(\"\\nTúneis:\", tunnels)\n",
        "\n",
        "    # Resolver o labirinto\n",
        "    resultado = resolver_labirinto(n, m, k, maze, tunnels)\n",
        "    print(\"\\nProbabilidade de fuga:\", resultado)\n",
        "\n",
        "if __name__ == '__main__':\n",
        "    main()"
      ],
      "metadata": {
        "colab": {
          "base_uri": "https://localhost:8080/"
        },
        "id": "R7T_v-H8lRI4",
        "outputId": "27e50fff-3cd9-46e4-95a0-6a578c2f1e00"
      },
      "execution_count": 50,
      "outputs": [
        {
          "output_type": "stream",
          "name": "stdout",
          "text": [
            "\n",
            "Labirinto inicial:\n",
            "%OOO**\n",
            "O#*OO%\n",
            "#*#*O#\n",
            "#OO%#A\n",
            "OOO%%*\n",
            "\n",
            "Túneis: [(4, 1, 0, 2), (3, 2, 0, 0)]\n",
            "\n",
            "Probabilidade de fuga: 0.0\n"
          ]
        }
      ]
    },
    {
      "cell_type": "markdown",
      "source": [
        "**EXERCÍCIO 02**"
      ],
      "metadata": {
        "id": "0M9BkRxEkZed"
      }
    },
    {
      "cell_type": "code",
      "source": [
        "def conta_deslocamentos(vetor):\n",
        "    max_val = 1000000\n",
        "    BIT = [0] * (max_val + 2)\n",
        "\n",
        "    def update(idx):\n",
        "        while idx <= max_val:\n",
        "            BIT[idx] += 1\n",
        "            idx += idx & -idx\n",
        "\n",
        "    def query(idx):\n",
        "        resultado = 0\n",
        "        while idx > 0:\n",
        "            resultado += BIT[idx]\n",
        "            idx -= idx & -idx\n",
        "        return resultado\n",
        "\n",
        "    total_deslocamentos = 0\n",
        "    n = len(vetor)\n",
        "\n",
        "    for i in range(n):\n",
        "        atual = vetor[i]\n",
        "        deslocamentos = i - query(atual)\n",
        "        total_deslocamentos += deslocamentos\n",
        "        update(atual)\n",
        "\n",
        "    return total_deslocamentos\n",
        "\n",
        "\n",
        "t = int(input(\"Casos_teste: \"))\n",
        "for caso in range(1, t + 1):\n",
        "    n = int(input(f\"\\n{caso}° caso - Tamanho_vetor: \"))\n",
        "    vetor = list(map(int, input(f\"{caso}° caso - {n} elementos_vetor: \").split()))\n",
        "    resultado = conta_deslocamentos(vetor)\n",
        "    print(f\"Caso {caso} - Deslocamentos_necessários: {resultado}\")\n"
      ],
      "metadata": {
        "colab": {
          "base_uri": "https://localhost:8080/"
        },
        "id": "246ivXMMuHJo",
        "outputId": "00998814-0704-4c0a-83c6-90616c7d89e3"
      },
      "execution_count": 30,
      "outputs": [
        {
          "output_type": "stream",
          "name": "stdout",
          "text": [
            "Casos_teste: 2\n",
            "\n",
            "1° caso - Tamanho_vetor: 5\n",
            "1° caso - 5 elementos_vetor: 1 1 1 2 2\n",
            "Caso 1 - Deslocamentos_necessários: 0\n",
            "\n",
            "2° caso - Tamanho_vetor: 5\n",
            "2° caso - 5 elementos_vetor: 2 1 3 1 2\n",
            "Caso 2 - Deslocamentos_necessários: 4\n"
          ]
        }
      ]
    },
    {
      "cell_type": "markdown",
      "source": [
        "*utilizando códigos inicias*"
      ],
      "metadata": {
        "id": "xjxKnlSMuGcw"
      }
    },
    {
      "cell_type": "code",
      "source": [
        "def insertionSort(arr):\n",
        "    deslocamentos = 0  # Conta os deslocamentos (shifts)\n",
        "\n",
        "    for i in range(1, len(arr)):\n",
        "        atual = arr[i]\n",
        "        j = i - 1\n",
        "\n",
        "        while j >= 0 and arr[j] > atual:\n",
        "            arr[j + 1] = arr[j]  # Desloca elemento para a direita\n",
        "            deslocamentos += 1\n",
        "            j -= 1\n",
        "\n",
        "        arr[j + 1] = atual  # Insere o valor atual na posição correta\n",
        "\n",
        "    return deslocamentos\n",
        "\n",
        "def main():\n",
        "    casos_teste = int(input(\"casos_teste: \"))\n",
        "\n",
        "    for caso in range(1, casos_teste + 1):\n",
        "        tamanho_vetor = int(input(f\"\\n{caso}° caso - Tamanho_vetor: \"))\n",
        "        entrada = input(f\"{caso}° caso - {tamanho_vetor} elementos_vetor: \")\n",
        "        vetor = list(map(int, entrada.strip().split()))\n",
        "\n",
        "        deslocamentos = insertionSort(vetor)\n",
        "        print(f\"Caso {caso} - Deslocamentos_necessários: {deslocamentos}\")\n",
        "\n",
        "if __name__ == '__main__':\n",
        "    main()\n"
      ],
      "metadata": {
        "colab": {
          "base_uri": "https://localhost:8080/"
        },
        "id": "0vjnFP6vvrXK",
        "outputId": "a5315f2c-9571-4def-9cc6-018dd28afbe3"
      },
      "execution_count": 35,
      "outputs": [
        {
          "output_type": "stream",
          "name": "stdout",
          "text": [
            "casos_teste: 2\n",
            "\n",
            "1° caso - Tamanho_vetor: 5\n",
            "1° caso - 5 elementos_vetor: 1 1 1 2 2\n",
            "Caso 1 - Deslocamentos_necessários: 0\n",
            "\n",
            "2° caso - Tamanho_vetor: 5\n",
            "2° caso - 5 elementos_vetor: 2 1 3 1 2\n",
            "Caso 2 - Deslocamentos_necessários: 4\n"
          ]
        }
      ]
    },
    {
      "cell_type": "markdown",
      "source": [
        "**EXERCÍCIO 03**"
      ],
      "metadata": {
        "id": "r2a3I9SAwmyw"
      }
    },
    {
      "cell_type": "code",
      "source": [
        "import random\n",
        "\n",
        "def activityNotifications(expenditure, d):\n",
        "    notifications = 0\n",
        "    n = len(expenditure)\n",
        "\n",
        "    for i in range(d, n):\n",
        "        trailing_days = sorted(expenditure[i - d:i])\n",
        "        if d % 2 == 0:\n",
        "            median = (trailing_days[d//2 - 1] + trailing_days[d//2]) / 2\n",
        "        else:\n",
        "            median = trailing_days[d//2]\n",
        "\n",
        "        if expenditure[i] >= 2 * median:\n",
        "            notifications += 1\n",
        "\n",
        "    return notifications\n",
        "\n",
        "def gerar_dados(n, max_val=200):\n",
        "    return [random.randint(0, max_val) for _ in range(n)]\n",
        "\n",
        "def main():\n",
        "    n, d = 10, 5\n",
        "    gastos = gerar_dados(n)\n",
        "    print(f\"n = {n}, d = {d}\")\n",
        "    print(\"Gastos:\", gastos)\n",
        "    resultado = activityNotifications(gastos, d)\n",
        "    print(\"Notificações:\", resultado)\n",
        "\n",
        "if __name__ == '__main__':\n",
        "    main()\n"
      ],
      "metadata": {
        "colab": {
          "base_uri": "https://localhost:8080/"
        },
        "id": "imT-4PKYwv3H",
        "outputId": "6ad21214-5051-4271-8ab6-53de898187a6"
      },
      "execution_count": 42,
      "outputs": [
        {
          "output_type": "stream",
          "name": "stdout",
          "text": [
            "n = 10, d = 5\n",
            "Gastos: [42, 111, 182, 193, 173, 46, 144, 3, 76, 108]\n",
            "Notificações: 0\n"
          ]
        }
      ]
    },
    {
      "cell_type": "code",
      "source": [
        "def main():\n",
        "    # Entrada manual\n",
        "\n",
        "    # número total de dias (n)\n",
        "    n = int(input(\"número total de dias (n): \"))\n",
        "\n",
        "    # número de dias anteriores usados para a mediana (d)\n",
        "    d = int(input(\"número de dias anteriores para a mediana (d): \"))\n",
        "\n",
        "    # Lê os gastos diários, separados por espaço, convertendo para lista de inteiros\n",
        "    gastos = list(map(int, input(f\"Digite os {n} gastos separados por espaço: \").split()))\n",
        "\n",
        "    # Chama a função que calcula as notificações e armazena o resultado\n",
        "    resultado = activityNotifications(gastos, d)\n",
        "\n",
        "    # Imprime a quantidade de notificações enviadas\n",
        "    print(\"Notificações:\", resultado)\n",
        "\n",
        "if __name__ == '__main__':\n",
        "    main()\n",
        "\n"
      ],
      "metadata": {
        "colab": {
          "base_uri": "https://localhost:8080/"
        },
        "id": "1yAxeB2Lz2CH",
        "outputId": "102aeec9-59a1-4b2f-f0da-80b7f2ae5218"
      },
      "execution_count": 41,
      "outputs": [
        {
          "output_type": "stream",
          "name": "stdout",
          "text": [
            "Digite o número total de dias (n): 9\n",
            "Digite o número de dias anteriores para a mediana (d): 5\n",
            "Digite os 9 gastos separados por espaço: 2 3 4 2 3 6 8 4 5\n",
            "Notificações: 2\n"
          ]
        }
      ]
    },
    {
      "cell_type": "markdown",
      "source": [
        "**EXERCÍCIO 04**"
      ],
      "metadata": {
        "id": "icJbFqBr3GNT"
      }
    },
    {
      "cell_type": "code",
      "source": [
        "import re  # Módulo para trabalhar com expressões regulares\n",
        "import itertools  # Módulo para gerar todas as combinações possíveis\n",
        "\n",
        "\n",
        "def countRecognizedStrings(R, L):\n",
        "    bases = [\"a\", \"b\"]  # Alfabeto fixo: 'a' e 'b'\n",
        "    count = 0  # Contador de strings reconhecidas\n",
        "\n",
        "    # Compilar a expressão regular, adicionando âncoras de início (^) e fim ($)\n",
        "    # para garantir que a string completa seja avaliada\n",
        "    regex = re.compile(\"^\" + R + \"$\")\n",
        "\n",
        "    # Gerar todas as strings possíveis de tamanho L com o alfabeto {'a', 'b'}\n",
        "    for p in itertools.product(bases, repeat=L):\n",
        "        s = ''.join(p)  # Junta a tupla de caracteres em uma string\n",
        "        if regex.match(s):  # Verifica se a string é reconhecida pela regex\n",
        "            count += 1  # Incrementa o contador se for reconhecida\n",
        "\n",
        "    return count  # Retorna o total de strings reconhecidas\n",
        "\n",
        "def main():\n",
        "    T = int(input(\"casos_teste (T): \"))  # Lê o número de casos de teste\n",
        "    casos = []  # Lista para armazenar os casos (R, L)\n",
        "\n",
        "    for _ in range(T):\n",
        "        entrada = input(f\"expressão_regular e tamanho ({i}° caso): \").strip()  # Lê e remove espaços extras da entrada\n",
        "        if \" \" in entrada:\n",
        "            # Se a entrada contiver espaço, significa que R e L estão na mesma linha\n",
        "            R, L = entrada.split()\n",
        "        else:\n",
        "            # Caso a entrada esteja dividida em duas linhas, lê a próxima linha para L\n",
        "            R = entrada\n",
        "            L = input(f\"tamanho da string para o {i}° caso: \").strip()\n",
        "        L = int(L)  # Converte L para inteiro\n",
        "        casos.append((R, L))  # Adiciona o par (R, L) à lista de casos\n",
        "\n",
        "    for R, L in casos:\n",
        "        resultado = countRecognizedStrings(R, L)  # Chama a função para cada caso\n",
        "        print(resultado)  # Imprime o resultado para o caso atual\n",
        "\n",
        "\n",
        "if __name__ == '__main__':\n",
        "    main()\n"
      ],
      "metadata": {
        "colab": {
          "base_uri": "https://localhost:8080/",
          "height": 321
        },
        "id": "8zRRvUl9BVKs",
        "outputId": "637c9971-50fa-487b-97e4-70e28be265d3"
      },
      "execution_count": 51,
      "outputs": [
        {
          "output_type": "error",
          "ename": "KeyboardInterrupt",
          "evalue": "Interrupted by user",
          "traceback": [
            "\u001b[0;31m---------------------------------------------------------------------------\u001b[0m",
            "\u001b[0;31mKeyboardInterrupt\u001b[0m                         Traceback (most recent call last)",
            "\u001b[0;32m<ipython-input-51-d35895cfeac8>\u001b[0m in \u001b[0;36m<cell line: 0>\u001b[0;34m()\u001b[0m\n\u001b[1;32m     41\u001b[0m \u001b[0;34m\u001b[0m\u001b[0m\n\u001b[1;32m     42\u001b[0m \u001b[0;32mif\u001b[0m \u001b[0m__name__\u001b[0m \u001b[0;34m==\u001b[0m \u001b[0;34m'__main__'\u001b[0m\u001b[0;34m:\u001b[0m\u001b[0;34m\u001b[0m\u001b[0;34m\u001b[0m\u001b[0m\n\u001b[0;32m---> 43\u001b[0;31m     \u001b[0mmain\u001b[0m\u001b[0;34m(\u001b[0m\u001b[0;34m)\u001b[0m\u001b[0;34m\u001b[0m\u001b[0;34m\u001b[0m\u001b[0m\n\u001b[0m",
            "\u001b[0;32m<ipython-input-51-d35895cfeac8>\u001b[0m in \u001b[0;36mmain\u001b[0;34m()\u001b[0m\n\u001b[1;32m     20\u001b[0m \u001b[0;34m\u001b[0m\u001b[0m\n\u001b[1;32m     21\u001b[0m \u001b[0;32mdef\u001b[0m \u001b[0mmain\u001b[0m\u001b[0;34m(\u001b[0m\u001b[0;34m)\u001b[0m\u001b[0;34m:\u001b[0m\u001b[0;34m\u001b[0m\u001b[0;34m\u001b[0m\u001b[0m\n\u001b[0;32m---> 22\u001b[0;31m     \u001b[0mT\u001b[0m \u001b[0;34m=\u001b[0m \u001b[0mint\u001b[0m\u001b[0;34m(\u001b[0m\u001b[0minput\u001b[0m\u001b[0;34m(\u001b[0m\u001b[0;34m\"casos_teste (T): \"\u001b[0m\u001b[0;34m)\u001b[0m\u001b[0;34m)\u001b[0m  \u001b[0;31m# Lê o número de casos de teste\u001b[0m\u001b[0;34m\u001b[0m\u001b[0;34m\u001b[0m\u001b[0m\n\u001b[0m\u001b[1;32m     23\u001b[0m     \u001b[0mcasos\u001b[0m \u001b[0;34m=\u001b[0m \u001b[0;34m[\u001b[0m\u001b[0;34m]\u001b[0m  \u001b[0;31m# Lista para armazenar os casos (R, L)\u001b[0m\u001b[0;34m\u001b[0m\u001b[0;34m\u001b[0m\u001b[0m\n\u001b[1;32m     24\u001b[0m \u001b[0;34m\u001b[0m\u001b[0m\n",
            "\u001b[0;32m/usr/local/lib/python3.11/dist-packages/ipykernel/kernelbase.py\u001b[0m in \u001b[0;36mraw_input\u001b[0;34m(self, prompt)\u001b[0m\n\u001b[1;32m   1175\u001b[0m                 \u001b[0;34m\"raw_input was called, but this frontend does not support input requests.\"\u001b[0m\u001b[0;34m\u001b[0m\u001b[0;34m\u001b[0m\u001b[0m\n\u001b[1;32m   1176\u001b[0m             )\n\u001b[0;32m-> 1177\u001b[0;31m         return self._input_request(\n\u001b[0m\u001b[1;32m   1178\u001b[0m             \u001b[0mstr\u001b[0m\u001b[0;34m(\u001b[0m\u001b[0mprompt\u001b[0m\u001b[0;34m)\u001b[0m\u001b[0;34m,\u001b[0m\u001b[0;34m\u001b[0m\u001b[0;34m\u001b[0m\u001b[0m\n\u001b[1;32m   1179\u001b[0m             \u001b[0mself\u001b[0m\u001b[0;34m.\u001b[0m\u001b[0m_parent_ident\u001b[0m\u001b[0;34m[\u001b[0m\u001b[0;34m\"shell\"\u001b[0m\u001b[0;34m]\u001b[0m\u001b[0;34m,\u001b[0m\u001b[0;34m\u001b[0m\u001b[0;34m\u001b[0m\u001b[0m\n",
            "\u001b[0;32m/usr/local/lib/python3.11/dist-packages/ipykernel/kernelbase.py\u001b[0m in \u001b[0;36m_input_request\u001b[0;34m(self, prompt, ident, parent, password)\u001b[0m\n\u001b[1;32m   1217\u001b[0m             \u001b[0;32mexcept\u001b[0m \u001b[0mKeyboardInterrupt\u001b[0m\u001b[0;34m:\u001b[0m\u001b[0;34m\u001b[0m\u001b[0;34m\u001b[0m\u001b[0m\n\u001b[1;32m   1218\u001b[0m                 \u001b[0;31m# re-raise KeyboardInterrupt, to truncate traceback\u001b[0m\u001b[0;34m\u001b[0m\u001b[0;34m\u001b[0m\u001b[0m\n\u001b[0;32m-> 1219\u001b[0;31m                 \u001b[0;32mraise\u001b[0m \u001b[0mKeyboardInterrupt\u001b[0m\u001b[0;34m(\u001b[0m\u001b[0;34m\"Interrupted by user\"\u001b[0m\u001b[0;34m)\u001b[0m \u001b[0;32mfrom\u001b[0m \u001b[0;32mNone\u001b[0m\u001b[0;34m\u001b[0m\u001b[0;34m\u001b[0m\u001b[0m\n\u001b[0m\u001b[1;32m   1220\u001b[0m             \u001b[0;32mexcept\u001b[0m \u001b[0mException\u001b[0m\u001b[0;34m:\u001b[0m\u001b[0;34m\u001b[0m\u001b[0;34m\u001b[0m\u001b[0m\n\u001b[1;32m   1221\u001b[0m                 \u001b[0mself\u001b[0m\u001b[0;34m.\u001b[0m\u001b[0mlog\u001b[0m\u001b[0;34m.\u001b[0m\u001b[0mwarning\u001b[0m\u001b[0;34m(\u001b[0m\u001b[0;34m\"Invalid Message:\"\u001b[0m\u001b[0;34m,\u001b[0m \u001b[0mexc_info\u001b[0m\u001b[0;34m=\u001b[0m\u001b[0;32mTrue\u001b[0m\u001b[0;34m)\u001b[0m\u001b[0;34m\u001b[0m\u001b[0;34m\u001b[0m\u001b[0m\n",
            "\u001b[0;31mKeyboardInterrupt\u001b[0m: Interrupted by user"
          ]
        }
      ]
    },
    {
      "cell_type": "markdown",
      "source": [
        "**EXERCÍCIO 05**"
      ],
      "metadata": {
        "id": "sRTJHst6HkuN"
      }
    },
    {
      "cell_type": "code",
      "source": [
        "def similar_pair(n, k, edges):\n",
        "    from collections import defaultdict\n",
        "\n",
        "    # Construção da árvore usando um dicionário onde cada chave é um nó pai\n",
        "    # e o valor é uma lista de seus filhos\n",
        "    tree = defaultdict(list)\n",
        "    for p, c in edges:\n",
        "        tree[p].append(c)\n",
        "\n",
        "    # Identificar o nó raiz, que é o nó que não aparece como filho em nenhuma aresta\n",
        "    all_nodes = set(range(1, n + 1))\n",
        "    child_nodes = set(c for _, c in edges)\n",
        "    roots = list(all_nodes - child_nodes)\n",
        "    # Se existir raiz, usa ela; caso contrário, assume o nó 1 como raiz\n",
        "    root = roots[0] if roots else 1\n",
        "\n",
        "    count = 0  # Contador de pares similares encontrados\n",
        "\n",
        "    # Função DFS recursiva para percorrer a árvore\n",
        "    # ancestors guarda todos os ancestrais do nó atual no caminho\n",
        "    def dfs(node, ancestors):\n",
        "        nonlocal count\n",
        "        # Para cada ancestral, verifica se a diferença entre os valores está dentro do limite k\n",
        "        for anc in ancestors:\n",
        "            if abs(anc - node) <= k:\n",
        "                count += 1\n",
        "        # Chama recursivamente o DFS para os filhos do nó atual\n",
        "        for child in tree[node]:\n",
        "            dfs(child, ancestors + [node])  # Adiciona o nó atual à lista de ancestrais\n",
        "\n",
        "    # Inicia a busca a partir da raiz, sem ancestrais inicialmente\n",
        "    dfs(root, [])\n",
        "    return count  # Retorna o total de pares similares encontrados\n",
        "\n",
        "\n",
        "def main():\n",
        "    # Leitura da quantidade de nós e do valor k\n",
        "    n, k = map(int, input().split())\n",
        "    # Leitura das n-1 arestas, cada uma representando pai e filho\n",
        "    edges = [tuple(map(int, input().split())) for _ in range(n - 1)]\n",
        "\n",
        "    # Chama a função que conta pares similares e imprime o resultado\n",
        "    result = similar_pair(n, k, edges)\n",
        "    print(result)\n",
        "\n",
        "\n",
        "if __name__ == \"__main__\":\n",
        "    main()\n",
        "\n"
      ],
      "metadata": {
        "colab": {
          "base_uri": "https://localhost:8080/"
        },
        "id": "v2E7emxpHlKR",
        "outputId": "10c8a075-487e-476b-ce2d-7bf2d73b478e"
      },
      "execution_count": 50,
      "outputs": [
        {
          "output_type": "stream",
          "name": "stdout",
          "text": [
            "5 2\n",
            "3 2\n",
            "3 1\n",
            "1 4\n",
            "1 5\n",
            "4\n"
          ]
        }
      ]
    }
  ]
}